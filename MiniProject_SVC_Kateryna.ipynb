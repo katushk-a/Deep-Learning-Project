{
 "cells": [
  {
   "cell_type": "markdown",
   "id": "7e4ea4e8",
   "metadata": {},
   "source": [
    "### Implementation of SVC in credit card fault detection"
   ]
  },
  {
   "cell_type": "code",
   "execution_count": 1,
   "id": "050507dd",
   "metadata": {},
   "outputs": [],
   "source": [
    "import pandas as pd \n",
    "import numpy as np\n",
    "\n",
    "# Scikit-learn library: For SVM\n",
    "from sklearn import preprocessing\n",
    "from sklearn.metrics import confusion_matrix\n",
    "from sklearn import svm\n",
    "\n",
    "import itertools\n",
    "\n",
    "# Matplotlib library to plot the charts\n",
    "import matplotlib.pyplot as plt\n",
    "import matplotlib.mlab as mlab\n",
    "\n",
    "# Library for the statistic data vizualisation\n",
    "import seaborn\n",
    "\n",
    "%matplotlib inline"
   ]
  },
  {
   "cell_type": "code",
   "execution_count": 3,
   "id": "fd6326ca",
   "metadata": {},
   "outputs": [],
   "source": [
    "data = pd.read_csv('creditcard.csv') # Reading the file .csv\n",
    "df = pd.DataFrame(data) # Converting data to Panda DataFrame"
   ]
  },
  {
   "cell_type": "code",
   "execution_count": 4,
   "id": "ce446b42",
   "metadata": {},
   "outputs": [],
   "source": [
    "df_corr = df.corr()"
   ]
  },
  {
   "cell_type": "code",
   "execution_count": 5,
   "id": "d87ea13f",
   "metadata": {},
   "outputs": [
    {
     "data": {
      "image/png": "[encoded data removed]",
      "text/plain": [
       "<Figure size 1080x720 with 2 Axes>"
      ]
     },
     "metadata": {
      "needs_background": "light"
     },
     "output_type": "display_data"
    }
   ],
   "source": [
    "plt.figure(figsize=(15,10))\n",
    "seaborn.heatmap(df_corr, cmap=\"YlGnBu\") # Displaying the Heatmap\n",
    "seaborn.set(font_scale=2,style='white')\n",
    "\n",
    "plt.title('Heatmap correlation')\n",
    "plt.show()"
   ]
  },
  {
   "cell_type": "code",
   "execution_count": 6,
   "id": "e7064b48",
   "metadata": {},
   "outputs": [],
   "source": [
    "rank = df_corr['Class'] \n",
    "# Retrieving the correlation coefficients per feature in relation to the feature class\n",
    "df_rank = pd.DataFrame(rank) \n",
    "df_rank = np.abs(df_rank).sort_values(by='Class',ascending=False) # Ranking the absolute values of the coefficients\n",
    "                                                                  # in descending order\n",
    "df_rank.dropna(inplace=True) # Removing Missing Data (not a number)\n"
   ]
  },
  {
   "cell_type": "code",
   "execution_count": 7,
   "id": "c83408d5",
   "metadata": {},
   "outputs": [
    {
     "name": "stdout",
     "output_type": "stream",
     "text": [
      "In this dataset, we have 293 frauds so we need to take a similar number of non-fraud\n"
     ]
    }
   ],
   "source": [
    "# We seperate ours data in two groups : \n",
    "#  - a train dataset and\n",
    "#  - a test dataset\n",
    "\n",
    "# First we build our train dataset\n",
    "df_train_all = df[0:150000] # We cut in two the original dataset\n",
    "df_train_1 = df_train_all[df_train_all['Class'] == 1] # We seperate the data which are the frauds and the no frauds\n",
    "df_train_0 = df_train_all[df_train_all['Class'] == 0]\n",
    "print('In this dataset, we have ' + str(len(df_train_1)) +\" frauds so we need to take a similar number of non-fraud\")\n",
    "\n",
    "df_sample=df_train_0.sample(300)\n",
    "df_train = df_train_1.append(df_sample) # We gather the frauds with the no frauds. \n",
    "df_train = df_train.sample(frac=1) # Then we mix our dataset"
   ]
  },
  {
   "cell_type": "code",
   "execution_count": 23,
   "id": "aba60835",
   "metadata": {},
   "outputs": [],
   "source": [
    "X_train = df_train.drop(['Time', 'Class'],axis=1) \n",
    "# We drop the features Time, and the Class (label)\n",
    "y_train = df_train['Class'] # We create our label\n",
    "X_train = np.asarray(X_train)\n",
    "y_train = np.asarray(y_train)"
   ]
  },
  {
   "cell_type": "code",
   "execution_count": 9,
   "id": "cb0b029b",
   "metadata": {},
   "outputs": [],
   "source": [
    "df_test_all = df[150000:]\n",
    "\n",
    "X_test_all = df_test_all.drop(['Time', 'Class'],axis=1)\n",
    "y_test_all = df_test_all['Class']\n",
    "X_test_all = np.asarray(X_test_all)\n",
    "y_test_all = np.asarray(y_test_all)"
   ]
  },
  {
   "cell_type": "code",
   "execution_count": 10,
   "id": "5d053b2b",
   "metadata": {},
   "outputs": [],
   "source": [
    "X_train_rank = df_train[df_rank.index[1:11]] # We take the first ten ranked features\n",
    "X_train_rank = np.asarray(X_train_rank)"
   ]
  },
  {
   "cell_type": "code",
   "execution_count": 11,
   "id": "4e3be23f",
   "metadata": {},
   "outputs": [],
   "source": [
    "X_test_all_rank = df_test_all[df_rank.index[1:11]]\n",
    "X_test_all_rank = np.asarray(X_test_all_rank)\n",
    "y_test_all = np.asarray(y_test_all)"
   ]
  },
  {
   "cell_type": "code",
   "execution_count": 12,
   "id": "10b1e113",
   "metadata": {},
   "outputs": [],
   "source": [
    "class_names=np.array(['0','1']) # Binary label, Class = 1 (fraud) and Class = 0 (no fraud)"
   ]
  },
  {
   "cell_type": "code",
   "execution_count": 14,
   "id": "b7fd4d77",
   "metadata": {},
   "outputs": [],
   "source": [
    "classifier = svm.SVC(kernel='linear') \n",
    "# We set a SVM classifier, the default SVM Classifier (\n",
    "# Kernel = Radial Basis Function)"
   ]
  },
  {
   "cell_type": "code",
   "execution_count": 34,
   "id": "24b1de63",
   "metadata": {},
   "outputs": [
    {
     "name": "stdout",
     "output_type": "stream",
     "text": [
      "Training done......\n",
      "SVM training time: 2.281\n"
     ]
    }
   ],
   "source": [
    "import time as t\n",
    "\n",
    "st=t.time()\n",
    "history=classifier.fit(X_train, y_train)\n",
    "print('Training done......')\n",
    "et=t.time()\n",
    "print(\"SVM training time: %.3f\"%(et-st))"
   ]
  },
  {
   "cell_type": "code",
   "execution_count": 17,
   "id": "b65b528e",
   "metadata": {},
   "outputs": [],
   "source": [
    "prediction_SVM_all = classifier.predict(X_test_all) #And finally, we predict our data test."
   ]
  },
  {
   "cell_type": "code",
   "execution_count": 24,
   "id": "1fdac8ba",
   "metadata": {},
   "outputs": [
    {
     "data": {
      "text/plain": [
       "array([[128986,   5622],\n",
       "       [    22,    177]])"
      ]
     },
     "execution_count": 24,
     "metadata": {},
     "output_type": "execute_result"
    }
   ],
   "source": [
    "# Confusion matrix - raw form\n",
    "confusion_matrix(y_test_all, prediction_SVM_all)\n",
    "# TN FN\n",
    "# FP TP  "
   ]
  },
  {
   "cell_type": "code",
   "execution_count": 28,
   "id": "27432dbd",
   "metadata": {},
   "outputs": [
    {
     "name": "stdout",
     "output_type": "stream",
     "text": [
      "Accuracy  :0.96\n",
      "Balanced  :0.92\n",
      "F1        :0.06\n",
      "Precision :0.03\n",
      "Recall    :0.89\n",
      "roc auc   :0.92\n",
      "pr)auc    :0.03\n"
     ]
    }
   ],
   "source": [
    "from sklearn.metrics import accuracy_score, auc, balanced_accuracy_score, confusion_matrix, f1_score, precision_score, average_precision_score, roc_auc_score,  recall_score,  precision_recall_curve #some scoring functions\n",
    "\n",
    "# Performance checking with differnt metrics\n",
    "def print_scores(y_t, y_p):\n",
    "    print(f'Accuracy  :{accuracy_score(y_t, y_p):.2f}' )\n",
    "    print(f'Balanced  :{balanced_accuracy_score(y_t, y_p):.2f}' )\n",
    "    print(f'F1        :{f1_score(y_t, y_p):.2f}' )\n",
    "    print(f'Precision :{precision_score(y_t, y_p):.2f}' )\n",
    "    print(f'Recall    :{recall_score(y_t, y_p):.2f}' )\n",
    "    print(f'roc auc   :{roc_auc_score(y_t, y_p):.2f}' )\n",
    "    print(f'pr)auc    :{average_precision_score(y_t, y_p):.2f}' )\n",
    "print_scores(y_test_all, prediction_SVM_all )"
   ]
  },
  {
   "cell_type": "code",
   "execution_count": 35,
   "id": "07b24eb5",
   "metadata": {},
   "outputs": [],
   "source": [
    "# Function to plot the confusion Matrix\n",
    "def plot_confusion_matrix(cm, classes,\n",
    "                          title='Confusion matrix',\n",
    "                          cmap=plt.cm.Blues):\n",
    "    \n",
    "    plt.imshow(cm, interpolation='nearest', cmap=cmap)\n",
    "    plt.title(title)\n",
    "    plt.colorbar()\n",
    "    tick_marks = np.arange(len(classes))\n",
    "    plt.xticks(tick_marks, classes, rotation=0)\n",
    "    plt.yticks(tick_marks, classes)\n",
    "\n",
    "    fmt = 'd' \n",
    "    thresh = cm.max() / 2.\n",
    "    for i, j in itertools.product(range(cm.shape[0]), range(cm.shape[1])):\n",
    "        plt.text(j, i, format(cm[i, j], fmt),\n",
    "                 horizontalalignment=\"center\",\n",
    "                 color=\"white\" if cm[i, j] > thresh else \"black\")\n",
    "\n",
    "    plt.tight_layout()\n",
    "    plt.ylabel('True label')\n",
    "    plt.xlabel('Predicted label')"
   ]
  },
  {
   "cell_type": "code",
   "execution_count": 36,
   "id": "406755a0",
   "metadata": {},
   "outputs": [
    {
     "data": {
      "image/png": "[encoded data removed]",
      "text/plain": [
       "<Figure size 432x288 with 2 Axes>"
      ]
     },
     "metadata": {},
     "output_type": "display_data"
    }
   ],
   "source": [
    "cm = confusion_matrix(y_test_all, prediction_SVM_all)\n",
    "plot_confusion_matrix(cm,class_names)"
   ]
  },
  {
   "cell_type": "code",
   "execution_count": 21,
   "id": "4d070eae",
   "metadata": {},
   "outputs": [
    {
     "name": "stdout",
     "output_type": "stream",
     "text": [
      "Our criterion give a result of 0.9031843365275642\n"
     ]
    }
   ],
   "source": [
    "print('Our criterion give a result of ' \n",
    "      + str( ( (cm[0][0]+cm[1][1]) / (sum(cm[0]) + sum(cm[1])) + 4 * cm[1][1]/(cm[1][0]+cm[1][1])) / 5))"
   ]
  },
  {
   "cell_type": "code",
   "execution_count": 38,
   "id": "133d8dce",
   "metadata": {
    "scrolled": true
   },
   "outputs": [
    {
     "name": "stderr",
     "output_type": "stream",
     "text": [
      "/Users/jitunath/opt/anaconda3/lib/python3.9/site-packages/sklearn/base.py:432: UserWarning: X has feature names, but SVC was fitted without feature names\n",
      "  warnings.warn(\n"
     ]
    },
    {
     "name": "stdout",
     "output_type": "stream",
     "text": [
      "We have detected 449 frauds / 492 total frauds.\n",
      "\n",
      "So, the probability to detect a fraud is 0.9126016260162602\n",
      "the accuracy is : 0.9653870866937961\n"
     ]
    }
   ],
   "source": [
    "X = df.iloc[:, 1:30]\n",
    "y = df.iloc[:, 30:31]\n",
    "y_pred = classifier.predict(X)\n",
    "cm=confusion_matrix(y,y_pred)\n",
    "\n",
    "print('We have detected ' + str(cm[1][1]) + ' frauds / ' + str(cm[1][1]+cm[1][0]) + ' total frauds.')\n",
    "print('\\nSo, the probability to detect a fraud is ' + str(cm[1][1]/(cm[1][1]+cm[1][0])))\n",
    "print(\"the accuracy is : \"+str((cm[0][0]+cm[1][1]) / (sum(cm[0]) + sum(cm[1]))))"
   ]
  },
  {
   "cell_type": "code",
   "execution_count": 32,
   "id": "4987c82a",
   "metadata": {},
   "outputs": [
    {
     "name": "stdout",
     "output_type": "stream",
     "text": [
      "The classifications using the MAD method with threshold=3 are as follows:\n",
      "[[128986   5622]\n",
      " [    22    177]]\n",
      "% of transactions labeled as fraud that were correct (precision): 177/(5622+177) = 3.05%\n",
      "% of fraudulent transactions were caught succesfully (recall):    177/(22+177) = 88.94%\n"
     ]
    }
   ],
   "source": [
    "THRESHOLD=3\n",
    "tn, fp, fn, tp = cm.ravel()\n",
    "print(f\"\"\"The classifications using the MAD method with threshold={THRESHOLD} are as follows:\n",
    "{cm}\n",
    "% of transactions labeled as fraud that were correct (precision): {tp}/({fp}+{tp}) = {tp/(fp+tp):.2%}\n",
    "% of fraudulent transactions were caught succesfully (recall):    {tp}/({fn}+{tp}) = {tp/(fn+tp):.2%}\"\"\")"
   ]
  }
 ],
 "metadata": {
  "kernelspec": {
   "display_name": "Python 3 (ipykernel)",
   "language": "python",
   "name": "python3"
  },
  "language_info": {
   "codemirror_mode": {
    "name": "ipython",
    "version": 3
   },
   "file_extension": ".py",
   "mimetype": "text/x-python",
   "name": "python",
   "nbconvert_exporter": "python",
   "pygments_lexer": "ipython3",
   "version": "3.9.7"
  }
 },
 "nbformat": 4,
 "nbformat_minor": 5
}
